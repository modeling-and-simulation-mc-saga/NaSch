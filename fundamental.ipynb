{
 "cells": [
  {
   "cell_type": "code",
   "execution_count": null,
   "metadata": {},
   "outputs": [],
   "source": [
    "import matplotlib.pyplot as plt\n",
    "import math\n",
    "from typing import Callable\n",
    "import sys\n",
    "sys.path.append(\"../lib\")\n",
    "from pylib import pltInit,Point,DataFile"
   ]
  },
  {
   "cell_type": "code",
   "execution_count": null,
   "metadata": {},
   "outputs": [],
   "source": [
    "def drawFundamental(p:float,deterministic:bool,l=100,vMax=5):\n",
    "    input = 'fundamental.txt'\n",
    "    output = 'NS-fundamental.pdf'\n",
    "    model = f'$L={l}, v_\\\\mathrm{{max}}={vMax}, p={p}$'\n",
    "    if deterministic:\n",
    "        input = input.replace('.txt','-deterministic.txt')\n",
    "        output = output.replace('.pdf','-deterministic.pdf')\n",
    "        model=f'$L={l}, v_\\\\mathrm{{max}}={vMax}, p=0$'\n",
    "    xl,yl = DataFile(input).readData()\n",
    "    plt.figure(figsize=(12,8),facecolor='white')\n",
    "    \n",
    "    plt.title(f'Fundamental Diagram({model})')\n",
    "    plt.xlim(0,1)\n",
    "    plt.ylim(0,1)\n",
    "    plt.xlabel('$\\\\rho$')\n",
    "    plt.ylabel('$q$')\n",
    "    plt.scatter(xl,yl,s=100,c='r',label=f'simulation')\n",
    "    lines = [\n",
    "        (Point(1/(vMax+1),0),Point(1/(vMax+1),1),Point(.2,.1),'$1/(v_\\\\mathrm{max}+1)$'),\n",
    "        (Point(0,0),Point(1/vMax,1),Point(.2,.9),'$q=v_\\\\mathrm{max}\\\\rho$'),\n",
    "        (Point(0,1),Point(1,0),Point(.5,.6),'$q=1-\\\\rho$')\n",
    "    ]\n",
    "    if not deterministic:\n",
    "        lines[1]=(Point(0,0),Point(1/(vMax-p),1),Point(.2,.9),'$q=(v_\\\\mathrm{max}-p)\\\\rho$')\n",
    "    for p1,p2,p3,text in lines:\n",
    "        plt.plot([p1.x,p2.x],[p1.y,p2.y],c='b')\n",
    "        plt.text(p3.x,p3.y,text)\n",
    "    \n",
    "    plt.legend()\n",
    "    plt.savefig(output)\n"
   ]
  },
  {
   "cell_type": "code",
   "execution_count": null,
   "metadata": {},
   "outputs": [],
   "source": [
    "pltInit()\n",
    "drawFundamental(0,True)\n",
    "drawFundamental(.2,False)"
   ]
  },
  {
   "cell_type": "code",
   "execution_count": null,
   "metadata": {},
   "outputs": [],
   "source": [
    "Point = namedtuple('Point',('x','y'))\n",
    "p = Point(x=0,y=1)\n",
    "print(p,p.x,p.y)"
   ]
  }
 ],
 "metadata": {
  "kernelspec": {
   "display_name": "myenv",
   "language": "python",
   "name": "python3"
  },
  "language_info": {
   "codemirror_mode": {
    "name": "ipython",
    "version": 3
   },
   "file_extension": ".py",
   "mimetype": "text/x-python",
   "name": "python",
   "nbconvert_exporter": "python",
   "pygments_lexer": "ipython3",
   "version": "3.10.8"
  },
  "orig_nbformat": 4,
  "vscode": {
   "interpreter": {
    "hash": "b3b804b6b7a7d9b475cf928428dd1242016eacc24c47853aaf0f8d1d2228aa39"
   }
  }
 },
 "nbformat": 4,
 "nbformat_minor": 2
}
